{
 "cells": [
  {
   "cell_type": "code",
   "execution_count": 1,
   "id": "ed7b29c0",
   "metadata": {},
   "outputs": [],
   "source": [
    "import numpy as np\n",
    "import seaborn as sns\n",
    "import pandas as pd\n",
    "import matplotlib.pyplot as plt\n",
    "#%matplotlib qt\n",
    "%matplotlib inline\n",
    "import missingno as misno"
   ]
  },
  {
   "cell_type": "code",
   "execution_count": 2,
   "id": "f3323e70",
   "metadata": {},
   "outputs": [],
   "source": [
    "df=pd.read_csv(\"seconde quality april.csv\")\n",
    "dfn=pd.read_csv(\"avril defect-departement.csv\")"
   ]
  },
  {
   "cell_type": "code",
   "execution_count": 3,
   "id": "12be119d",
   "metadata": {},
   "outputs": [
    {
     "data": {
      "text/html": [
       "<div>\n",
       "<style scoped>\n",
       "    .dataframe tbody tr th:only-of-type {\n",
       "        vertical-align: middle;\n",
       "    }\n",
       "\n",
       "    .dataframe tbody tr th {\n",
       "        vertical-align: top;\n",
       "    }\n",
       "\n",
       "    .dataframe thead th {\n",
       "        text-align: right;\n",
       "    }\n",
       "</style>\n",
       "<table border=\"1\" class=\"dataframe\">\n",
       "  <thead>\n",
       "    <tr style=\"text-align: right;\">\n",
       "      <th></th>\n",
       "      <th>order</th>\n",
       "      <th>Customer</th>\n",
       "      <th>Stayle code</th>\n",
       "      <th>Garment</th>\n",
       "      <th>Quantity requested</th>\n",
       "      <th>Quantity cutted</th>\n",
       "      <th>CUTTING</th>\n",
       "      <th>EMBROIDERY</th>\n",
       "      <th>PRINTING</th>\n",
       "      <th>Sewing</th>\n",
       "      <th>Washing</th>\n",
       "      <th>Finishing</th>\n",
       "      <th>Total</th>\n",
       "      <th>Quantity shipped</th>\n",
       "      <th>Quantity missed</th>\n",
       "    </tr>\n",
       "  </thead>\n",
       "  <tbody>\n",
       "    <tr>\n",
       "      <th>0</th>\n",
       "      <td>T214680</td>\n",
       "      <td>SNC SQUARE</td>\n",
       "      <td>MP101-WS</td>\n",
       "      <td>POLO</td>\n",
       "      <td>4590.00</td>\n",
       "      <td>4606.0</td>\n",
       "      <td>23</td>\n",
       "      <td>0</td>\n",
       "      <td>15</td>\n",
       "      <td>25</td>\n",
       "      <td>0</td>\n",
       "      <td>12</td>\n",
       "      <td>75</td>\n",
       "      <td>NaN</td>\n",
       "      <td>NaN</td>\n",
       "    </tr>\n",
       "    <tr>\n",
       "      <th>1</th>\n",
       "      <td>T214704</td>\n",
       "      <td>TAYAL</td>\n",
       "      <td>MJ801</td>\n",
       "      <td>JOGGER</td>\n",
       "      <td>612.00</td>\n",
       "      <td>656.0</td>\n",
       "      <td>51</td>\n",
       "      <td>0</td>\n",
       "      <td>0</td>\n",
       "      <td>9</td>\n",
       "      <td>0</td>\n",
       "      <td>7</td>\n",
       "      <td>67</td>\n",
       "      <td>NaN</td>\n",
       "      <td>NaN</td>\n",
       "    </tr>\n",
       "    <tr>\n",
       "      <th>2</th>\n",
       "      <td>T217013</td>\n",
       "      <td>Le printemps</td>\n",
       "      <td>BT113</td>\n",
       "      <td>T-SHIRT</td>\n",
       "      <td>4324.32</td>\n",
       "      <td>4347.0</td>\n",
       "      <td>13</td>\n",
       "      <td>0</td>\n",
       "      <td>59</td>\n",
       "      <td>4</td>\n",
       "      <td>0</td>\n",
       "      <td>10</td>\n",
       "      <td>86</td>\n",
       "      <td>NaN</td>\n",
       "      <td>NaN</td>\n",
       "    </tr>\n",
       "    <tr>\n",
       "      <th>3</th>\n",
       "      <td>T217014</td>\n",
       "      <td>Le printemps</td>\n",
       "      <td>BT109</td>\n",
       "      <td>T-SHIRT</td>\n",
       "      <td>4324.32</td>\n",
       "      <td>4326.0</td>\n",
       "      <td>3</td>\n",
       "      <td>0</td>\n",
       "      <td>4</td>\n",
       "      <td>5</td>\n",
       "      <td>0</td>\n",
       "      <td>3</td>\n",
       "      <td>15</td>\n",
       "      <td>NaN</td>\n",
       "      <td>NaN</td>\n",
       "    </tr>\n",
       "    <tr>\n",
       "      <th>4</th>\n",
       "      <td>T217019</td>\n",
       "      <td>Le printemps</td>\n",
       "      <td>BT114</td>\n",
       "      <td>T-SHIRT</td>\n",
       "      <td>4324.32</td>\n",
       "      <td>4354.0</td>\n",
       "      <td>30</td>\n",
       "      <td>0</td>\n",
       "      <td>13</td>\n",
       "      <td>16</td>\n",
       "      <td>0</td>\n",
       "      <td>21</td>\n",
       "      <td>80</td>\n",
       "      <td>77.0</td>\n",
       "      <td>3.0</td>\n",
       "    </tr>\n",
       "  </tbody>\n",
       "</table>\n",
       "</div>"
      ],
      "text/plain": [
       "     order      Customer Stayle code  Garment  Quantity requested  \\\n",
       "0  T214680    SNC SQUARE    MP101-WS     POLO             4590.00   \n",
       "1  T214704         TAYAL       MJ801   JOGGER              612.00   \n",
       "2  T217013  Le printemps       BT113  T-SHIRT             4324.32   \n",
       "3  T217014  Le printemps       BT109  T-SHIRT             4324.32   \n",
       "4  T217019  Le printemps       BT114  T-SHIRT             4324.32   \n",
       "\n",
       "   Quantity cutted  CUTTING   EMBROIDERY  PRINTING  Sewing  Washing  \\\n",
       "0           4606.0        23           0        15      25        0   \n",
       "1            656.0        51           0         0       9        0   \n",
       "2           4347.0        13           0        59       4        0   \n",
       "3           4326.0         3           0         4       5        0   \n",
       "4           4354.0        30           0        13      16        0   \n",
       "\n",
       "   Finishing  Total  Quantity shipped  Quantity missed  \n",
       "0         12     75               NaN              NaN  \n",
       "1          7     67               NaN              NaN  \n",
       "2         10     86               NaN              NaN  \n",
       "3          3     15               NaN              NaN  \n",
       "4         21     80              77.0              3.0  "
      ]
     },
     "execution_count": 3,
     "metadata": {},
     "output_type": "execute_result"
    }
   ],
   "source": [
    "df.head()"
   ]
  },
  {
   "cell_type": "code",
   "execution_count": 4,
   "id": "320302a6",
   "metadata": {},
   "outputs": [
    {
     "name": "stdout",
     "output_type": "stream",
     "text": [
      "<class 'pandas.core.frame.DataFrame'>\n",
      "RangeIndex: 198 entries, 0 to 197\n",
      "Data columns (total 15 columns):\n",
      " #   Column              Non-Null Count  Dtype  \n",
      "---  ------              --------------  -----  \n",
      " 0   order               198 non-null    object \n",
      " 1   Customer            198 non-null    object \n",
      " 2   Stayle code         198 non-null    object \n",
      " 3   Garment             198 non-null    object \n",
      " 4   Quantity requested  198 non-null    float64\n",
      " 5   Quantity cutted     197 non-null    float64\n",
      " 6   CUTTING             198 non-null    int64  \n",
      " 7   EMBROIDERY          198 non-null    int64  \n",
      " 8   PRINTING            198 non-null    int64  \n",
      " 9   Sewing              198 non-null    int64  \n",
      " 10  Washing             198 non-null    int64  \n",
      " 11  Finishing           198 non-null    int64  \n",
      " 12  Total               198 non-null    int64  \n",
      " 13  Quantity shipped    176 non-null    float64\n",
      " 14  Quantity missed     176 non-null    float64\n",
      "dtypes: float64(4), int64(7), object(4)\n",
      "memory usage: 23.3+ KB\n"
     ]
    }
   ],
   "source": [
    "df.info()"
   ]
  },
  {
   "cell_type": "code",
   "execution_count": 5,
   "id": "2ed5ea36",
   "metadata": {},
   "outputs": [
    {
     "data": {
      "text/plain": [
       "order                  0\n",
       "Customer               0\n",
       "Stayle code            0\n",
       "Garment                0\n",
       "Quantity requested     0\n",
       "Quantity cutted        1\n",
       "CUTTING                0\n",
       "EMBROIDERY             0\n",
       "PRINTING               0\n",
       "Sewing                 0\n",
       "Washing                0\n",
       "Finishing              0\n",
       "Total                  0\n",
       "Quantity shipped      22\n",
       "Quantity missed       22\n",
       "dtype: int64"
      ]
     },
     "execution_count": 5,
     "metadata": {},
     "output_type": "execute_result"
    }
   ],
   "source": [
    "df.isnull().sum()"
   ]
  },
  {
   "cell_type": "code",
   "execution_count": 6,
   "id": "24939bea",
   "metadata": {},
   "outputs": [
    {
     "data": {
      "text/plain": [
       "Text(0.5, 1.0, 'Presentation of missing values')"
      ]
     },
     "execution_count": 6,
     "metadata": {},
     "output_type": "execute_result"
    },
    {
     "data": {
      "image/png": "[encoded data removed]",
      "text/plain": [
       "<Figure size 1728x720 with 3 Axes>"
      ]
     },
     "metadata": {
      "needs_background": "light"
     },
     "output_type": "display_data"
    }
   ],
   "source": [
    "misno.bar(df)\n",
    "plt.title(\"Presentation of missing values\", fontsize=40, color= 'red')\n"
   ]
  },
  {
   "cell_type": "markdown",
   "id": "5616330e",
   "metadata": {},
   "source": [
    "### Handling missing values"
   ]
  },
  {
   "cell_type": "code",
   "execution_count": 7,
   "id": "f51768f6",
   "metadata": {},
   "outputs": [],
   "source": [
    "df['Quantity cutted']=df['Quantity cutted'].fillna(df['Quantity cutted'].mean())"
   ]
  },
  {
   "cell_type": "code",
   "execution_count": 8,
   "id": "8324ad54",
   "metadata": {},
   "outputs": [
    {
     "data": {
      "text/plain": [
       "0"
      ]
     },
     "execution_count": 8,
     "metadata": {},
     "output_type": "execute_result"
    }
   ],
   "source": [
    "df['Quantity cutted'].isnull().sum()"
   ]
  },
  {
   "cell_type": "code",
   "execution_count": 9,
   "id": "439b8309",
   "metadata": {},
   "outputs": [
    {
     "data": {
      "text/plain": [
       "order                 T220437\n",
       "Customer                  PMG\n",
       "Stayle code             BP114\n",
       "Garment                  Polo\n",
       "Quantity requested     1134.0\n",
       "Quantity cutted        1084.0\n",
       "CUTTING                    94\n",
       "EMBROIDERY                  2\n",
       "PRINTING                    2\n",
       "Sewing                      2\n",
       "Washing                     0\n",
       "Finishing                   0\n",
       "Total                     100\n",
       "Quantity shipped         98.0\n",
       "Quantity missed           2.0\n",
       "Name: 125, dtype: object"
      ]
     },
     "execution_count": 9,
     "metadata": {},
     "output_type": "execute_result"
    }
   ],
   "source": [
    "df.iloc[125]"
   ]
  },
  {
   "cell_type": "code",
   "execution_count": 10,
   "id": "6aa184c3",
   "metadata": {},
   "outputs": [
    {
     "data": {
      "text/plain": [
       "order                  0\n",
       "Customer               0\n",
       "Stayle code            0\n",
       "Garment                0\n",
       "Quantity requested     0\n",
       "Quantity cutted        0\n",
       "CUTTING                0\n",
       "EMBROIDERY             0\n",
       "PRINTING               0\n",
       "Sewing                 0\n",
       "Washing                0\n",
       "Finishing              0\n",
       "Total                  0\n",
       "Quantity shipped      22\n",
       "Quantity missed       22\n",
       "dtype: int64"
      ]
     },
     "execution_count": 10,
     "metadata": {},
     "output_type": "execute_result"
    }
   ],
   "source": [
    "df.isnull().sum()"
   ]
  },
  {
   "cell_type": "markdown",
   "id": "a4a8c1e0",
   "metadata": {},
   "source": [
    "#### Seconde Quality %"
   ]
  },
  {
   "cell_type": "code",
   "execution_count": 11,
   "id": "3c49e8ee",
   "metadata": {},
   "outputs": [
    {
     "data": {
      "text/plain": [
       "2.488110281552018"
      ]
     },
     "execution_count": 11,
     "metadata": {},
     "output_type": "execute_result"
    }
   ],
   "source": [
    "df['Total'].sum()/df['Quantity cutted'].sum()*100"
   ]
  },
  {
   "cell_type": "code",
   "execution_count": 12,
   "id": "622027d4",
   "metadata": {},
   "outputs": [],
   "source": [
    "second_quality_qt=df['Total'].sum()\n",
    "first_quality_qt=df['Quantity cutted'].sum()-df['Total'].sum()"
   ]
  },
  {
   "cell_type": "code",
   "execution_count": 13,
   "id": "54b03e5e",
   "metadata": {},
   "outputs": [
    {
     "data": {
      "text/plain": [
       "9712"
      ]
     },
     "execution_count": 13,
     "metadata": {},
     "output_type": "execute_result"
    }
   ],
   "source": [
    "second_quality_qt"
   ]
  },
  {
   "cell_type": "code",
   "execution_count": 14,
   "id": "fd98c46b",
   "metadata": {},
   "outputs": [
    {
     "data": {
      "text/plain": [
       "380624.39593908633"
      ]
     },
     "execution_count": 14,
     "metadata": {},
     "output_type": "execute_result"
    }
   ],
   "source": [
    "first_quality_qt"
   ]
  },
  {
   "cell_type": "code",
   "execution_count": 15,
   "id": "882bef94",
   "metadata": {},
   "outputs": [
    {
     "data": {
      "text/plain": [
       "([<matplotlib.patches.Wedge at 0x1c8a5dc8610>,\n",
       "  <matplotlib.patches.Wedge at 0x1c8a5ddc040>],\n",
       " [Text(-1.0966412219629456, 0.08589546141454665, 'First Quality'),\n",
       "  Text(1.395725183912637, -0.10932159435370377, 'Second Quality')],\n",
       " [Text(-0.5981679392525157, 0.04685206986247999, '97.5%'),\n",
       "  Text(0.897251903943838, -0.07027816779880955, '2.5%')])"
      ]
     },
     "execution_count": 15,
     "metadata": {},
     "output_type": "execute_result"
    },
    {
     "data": {
      "image/png": "[encoded data removed]",
      "text/plain": [
       "<Figure size 1440x720 with 1 Axes>"
      ]
     },
     "metadata": {},
     "output_type": "display_data"
    }
   ],
   "source": [
    "data=[first_quality_qt,second_quality_qt]\n",
    "lables=['First Quality','Second Quality']\n",
    "a=[0,0.3]\n",
    "plt.figure(figsize=(20,10))\n",
    "plt.pie(data,labels=lables, explode=a,shadow=True, autopct='%1.1f%%')"
   ]
  },
  {
   "cell_type": "markdown",
   "id": "0c741edf",
   "metadata": {},
   "source": [
    "Second Quality in each departement"
   ]
  },
  {
   "cell_type": "code",
   "execution_count": 16,
   "id": "bf561d14",
   "metadata": {},
   "outputs": [],
   "source": [
    "cutting=df['CUTTING '].sum()\n",
    "embroidery=df['EMBROIDERY'].sum()\n",
    "printing=df['PRINTING'].sum()\n",
    "sewing=df['Sewing'].sum()\n",
    "washing=df['Washing'].sum()\n",
    "finishing=df['Finishing'].sum()"
   ]
  },
  {
   "cell_type": "code",
   "execution_count": 17,
   "id": "14f7a407",
   "metadata": {},
   "outputs": [
    {
     "data": {
      "text/plain": [
       "<BarContainer object of 6 artists>"
      ]
     },
     "execution_count": 17,
     "metadata": {},
     "output_type": "execute_result"
    },
    {
     "data": {
      "image/png": "[encoded data removed]",
      "text/plain": [
       "<Figure size 1080x720 with 1 Axes>"
      ]
     },
     "metadata": {
      "needs_background": "light"
     },
     "output_type": "display_data"
    }
   ],
   "source": [
    "d ={ 'a': ['cutting','embroidery','printing','sewing','washing','finishing'],\n",
    "        'b' : [cutting,embroidery,printing,sewing,washing,finishing]}\n",
    "df2=pd.DataFrame(data=d)\n",
    "df2_sorted=df2.sort_values('b',ascending=False)\n",
    "plt.figure(figsize=(15,10))\n",
    "sns.set(style='darkgrid')\n",
    "plt.title(\"Seconde Quality in each Departement\",fontsize=30,color='Blue')\n",
    "plt.bar('a','b',data=df2_sorted)"
   ]
  },
  {
   "cell_type": "code",
   "execution_count": 18,
   "id": "4d4936c6",
   "metadata": {},
   "outputs": [
    {
     "data": {
      "text/plain": [
       "([<matplotlib.patches.Wedge at 0x1c8a5e98bb0>,\n",
       "  <matplotlib.patches.Wedge at 0x1c8a5ea74c0>,\n",
       "  <matplotlib.patches.Wedge at 0x1c8a5ea7d60>,\n",
       "  <matplotlib.patches.Wedge at 0x1c8a5eb6700>,\n",
       "  <matplotlib.patches.Wedge at 0x1c8a5ec2070>,\n",
       "  <matplotlib.patches.Wedge at 0x1c8a5ec2a90>],\n",
       " [Text(0.5516426820677968, 0.9516776509517537, 'cutting'),\n",
       "  Text(-0.555332570583995, 0.9495292181120982, 'embroidery'),\n",
       "  Text(-1.078234468000049, 0.21773936717243203, 'printing'),\n",
       "  Text(-0.014944135699986202, -1.0998984829556684, 'sewing'),\n",
       "  Text(0.8742746892602388, -0.6675655531248695, 'washing'),\n",
       "  Text(1.0436267525946035, -0.34762508722593977, 'finishing')],\n",
       " [Text(0.3008960084006164, 0.5190969005191384, '33.28%'),\n",
       "  Text(-0.3029086748639972, 0.5179250280611444, '0.29%'),\n",
       "  Text(-0.5881278916363903, 0.11876692754859927, '26.52%'),\n",
       "  Text(-0.008151346745447019, -0.5999446270667281, '29.39%'),\n",
       "  Text(0.4768771032328575, -0.36412666534083793, '0.29%'),\n",
       "  Text(0.5692509559606928, -0.18961368394142167, '10.23%')])"
      ]
     },
     "execution_count": 18,
     "metadata": {},
     "output_type": "execute_result"
    },
    {
     "data": {
      "image/png": "[encoded data removed]",
      "text/plain": [
       "<Figure size 1440x720 with 1 Axes>"
      ]
     },
     "metadata": {},
     "output_type": "display_data"
    }
   ],
   "source": [
    "plt.figure(figsize=(20,10))\n",
    "plt.pie(df2['b'],labels=df2['a'],shadow=True, autopct='%1.2f%%')"
   ]
  },
  {
   "cell_type": "markdown",
   "id": "6e1f0e8d",
   "metadata": {},
   "source": [
    "## Cutting Departement"
   ]
  },
  {
   "cell_type": "code",
   "execution_count": 19,
   "id": "c4029142",
   "metadata": {},
   "outputs": [
    {
     "data": {
      "text/html": [
       "<div>\n",
       "<style scoped>\n",
       "    .dataframe tbody tr th:only-of-type {\n",
       "        vertical-align: middle;\n",
       "    }\n",
       "\n",
       "    .dataframe tbody tr th {\n",
       "        vertical-align: top;\n",
       "    }\n",
       "\n",
       "    .dataframe thead th {\n",
       "        text-align: right;\n",
       "    }\n",
       "</style>\n",
       "<table border=\"1\" class=\"dataframe\">\n",
       "  <thead>\n",
       "    <tr style=\"text-align: right;\">\n",
       "      <th></th>\n",
       "      <th>defects</th>\n",
       "      <th>CUTTING</th>\n",
       "      <th>EMBROIDERY</th>\n",
       "      <th>FINISHING</th>\n",
       "      <th>PRINTING</th>\n",
       "      <th>SEWING</th>\n",
       "      <th>WASHING</th>\n",
       "    </tr>\n",
       "  </thead>\n",
       "  <tbody>\n",
       "    <tr>\n",
       "      <th>0</th>\n",
       "      <td>BAD REPAIR</td>\n",
       "      <td>NaN</td>\n",
       "      <td>NaN</td>\n",
       "      <td>NaN</td>\n",
       "      <td>NaN</td>\n",
       "      <td>112.0</td>\n",
       "      <td>NaN</td>\n",
       "    </tr>\n",
       "    <tr>\n",
       "      <th>1</th>\n",
       "      <td>CUT OF SCISSORS</td>\n",
       "      <td>NaN</td>\n",
       "      <td>NaN</td>\n",
       "      <td>131.0</td>\n",
       "      <td>NaN</td>\n",
       "      <td>NaN</td>\n",
       "      <td>NaN</td>\n",
       "    </tr>\n",
       "    <tr>\n",
       "      <th>2</th>\n",
       "      <td>DAMAGE EM</td>\n",
       "      <td>NaN</td>\n",
       "      <td>13.0</td>\n",
       "      <td>NaN</td>\n",
       "      <td>NaN</td>\n",
       "      <td>NaN</td>\n",
       "      <td>NaN</td>\n",
       "    </tr>\n",
       "    <tr>\n",
       "      <th>3</th>\n",
       "      <td>DAMAGE P</td>\n",
       "      <td>NaN</td>\n",
       "      <td>NaN</td>\n",
       "      <td>NaN</td>\n",
       "      <td>365.0</td>\n",
       "      <td>NaN</td>\n",
       "      <td>NaN</td>\n",
       "    </tr>\n",
       "    <tr>\n",
       "      <th>4</th>\n",
       "      <td>DAMAGE WASHING</td>\n",
       "      <td>NaN</td>\n",
       "      <td>NaN</td>\n",
       "      <td>NaN</td>\n",
       "      <td>NaN</td>\n",
       "      <td>NaN</td>\n",
       "      <td>1.0</td>\n",
       "    </tr>\n",
       "  </tbody>\n",
       "</table>\n",
       "</div>"
      ],
      "text/plain": [
       "            defects  CUTTING   EMBROIDERY   FINISHING   PRINTING   SEWING   \\\n",
       "0       BAD REPAIR        NaN          NaN         NaN        NaN    112.0   \n",
       "1  CUT OF SCISSORS        NaN          NaN       131.0        NaN      NaN   \n",
       "2         DAMAGE EM       NaN         13.0         NaN        NaN      NaN   \n",
       "3          DAMAGE P       NaN          NaN         NaN      365.0      NaN   \n",
       "4   DAMAGE WASHING        NaN          NaN         NaN        NaN      NaN   \n",
       "\n",
       "   WASHING   \n",
       "0       NaN  \n",
       "1       NaN  \n",
       "2       NaN  \n",
       "3       NaN  \n",
       "4       1.0  "
      ]
     },
     "execution_count": 19,
     "metadata": {},
     "output_type": "execute_result"
    }
   ],
   "source": [
    "dfn.head()"
   ]
  },
  {
   "cell_type": "code",
   "execution_count": 20,
   "id": "6368b9a5",
   "metadata": {},
   "outputs": [],
   "source": [
    "dfn=dfn.fillna(0)"
   ]
  },
  {
   "cell_type": "code",
   "execution_count": 21,
   "id": "42155c2f",
   "metadata": {},
   "outputs": [
    {
     "data": {
      "text/html": [
       "<div>\n",
       "<style scoped>\n",
       "    .dataframe tbody tr th:only-of-type {\n",
       "        vertical-align: middle;\n",
       "    }\n",
       "\n",
       "    .dataframe tbody tr th {\n",
       "        vertical-align: top;\n",
       "    }\n",
       "\n",
       "    .dataframe thead th {\n",
       "        text-align: right;\n",
       "    }\n",
       "</style>\n",
       "<table border=\"1\" class=\"dataframe\">\n",
       "  <thead>\n",
       "    <tr style=\"text-align: right;\">\n",
       "      <th></th>\n",
       "      <th>defects</th>\n",
       "      <th>CUTTING</th>\n",
       "      <th>EMBROIDERY</th>\n",
       "      <th>FINISHING</th>\n",
       "      <th>PRINTING</th>\n",
       "      <th>SEWING</th>\n",
       "      <th>WASHING</th>\n",
       "    </tr>\n",
       "  </thead>\n",
       "  <tbody>\n",
       "    <tr>\n",
       "      <th>0</th>\n",
       "      <td>BAD REPAIR</td>\n",
       "      <td>0.0</td>\n",
       "      <td>0.0</td>\n",
       "      <td>0.0</td>\n",
       "      <td>0.0</td>\n",
       "      <td>112.0</td>\n",
       "      <td>0.0</td>\n",
       "    </tr>\n",
       "    <tr>\n",
       "      <th>1</th>\n",
       "      <td>CUT OF SCISSORS</td>\n",
       "      <td>0.0</td>\n",
       "      <td>0.0</td>\n",
       "      <td>131.0</td>\n",
       "      <td>0.0</td>\n",
       "      <td>0.0</td>\n",
       "      <td>0.0</td>\n",
       "    </tr>\n",
       "    <tr>\n",
       "      <th>2</th>\n",
       "      <td>DAMAGE EM</td>\n",
       "      <td>0.0</td>\n",
       "      <td>13.0</td>\n",
       "      <td>0.0</td>\n",
       "      <td>0.0</td>\n",
       "      <td>0.0</td>\n",
       "      <td>0.0</td>\n",
       "    </tr>\n",
       "    <tr>\n",
       "      <th>3</th>\n",
       "      <td>DAMAGE P</td>\n",
       "      <td>0.0</td>\n",
       "      <td>0.0</td>\n",
       "      <td>0.0</td>\n",
       "      <td>365.0</td>\n",
       "      <td>0.0</td>\n",
       "      <td>0.0</td>\n",
       "    </tr>\n",
       "    <tr>\n",
       "      <th>4</th>\n",
       "      <td>DAMAGE WASHING</td>\n",
       "      <td>0.0</td>\n",
       "      <td>0.0</td>\n",
       "      <td>0.0</td>\n",
       "      <td>0.0</td>\n",
       "      <td>0.0</td>\n",
       "      <td>1.0</td>\n",
       "    </tr>\n",
       "  </tbody>\n",
       "</table>\n",
       "</div>"
      ],
      "text/plain": [
       "            defects  CUTTING   EMBROIDERY   FINISHING   PRINTING   SEWING   \\\n",
       "0       BAD REPAIR        0.0          0.0         0.0        0.0    112.0   \n",
       "1  CUT OF SCISSORS        0.0          0.0       131.0        0.0      0.0   \n",
       "2         DAMAGE EM       0.0         13.0         0.0        0.0      0.0   \n",
       "3          DAMAGE P       0.0          0.0         0.0      365.0      0.0   \n",
       "4   DAMAGE WASHING        0.0          0.0         0.0        0.0      0.0   \n",
       "\n",
       "   WASHING   \n",
       "0       0.0  \n",
       "1       0.0  \n",
       "2       0.0  \n",
       "3       0.0  \n",
       "4       1.0  "
      ]
     },
     "execution_count": 21,
     "metadata": {},
     "output_type": "execute_result"
    }
   ],
   "source": [
    "dfn.head()"
   ]
  },
  {
   "cell_type": "code",
   "execution_count": 22,
   "id": "2aa8737f",
   "metadata": {},
   "outputs": [
    {
     "name": "stdout",
     "output_type": "stream",
     "text": [
      "<class 'pandas.core.frame.DataFrame'>\n",
      "RangeIndex: 20 entries, 0 to 19\n",
      "Data columns (total 7 columns):\n",
      " #   Column       Non-Null Count  Dtype  \n",
      "---  ------       --------------  -----  \n",
      " 0   defects      20 non-null     object \n",
      " 1   CUTTING      20 non-null     float64\n",
      " 2   EMBROIDERY   20 non-null     float64\n",
      " 3   FINISHING    20 non-null     float64\n",
      " 4   PRINTING     20 non-null     float64\n",
      " 5   SEWING       20 non-null     float64\n",
      " 6   WASHING      20 non-null     float64\n",
      "dtypes: float64(6), object(1)\n",
      "memory usage: 1.2+ KB\n"
     ]
    }
   ],
   "source": [
    "dfn.info()"
   ]
  },
  {
   "cell_type": "code",
   "execution_count": 23,
   "id": "06e16fcc",
   "metadata": {},
   "outputs": [
    {
     "data": {
      "text/html": [
       "<div>\n",
       "<style scoped>\n",
       "    .dataframe tbody tr th:only-of-type {\n",
       "        vertical-align: middle;\n",
       "    }\n",
       "\n",
       "    .dataframe tbody tr th {\n",
       "        vertical-align: top;\n",
       "    }\n",
       "\n",
       "    .dataframe thead th {\n",
       "        text-align: right;\n",
       "    }\n",
       "</style>\n",
       "<table border=\"1\" class=\"dataframe\">\n",
       "  <thead>\n",
       "    <tr style=\"text-align: right;\">\n",
       "      <th></th>\n",
       "      <th>CUTTING</th>\n",
       "      <th>EMBROIDERY</th>\n",
       "      <th>FINISHING</th>\n",
       "      <th>PRINTING</th>\n",
       "      <th>SEWING</th>\n",
       "      <th>WASHING</th>\n",
       "    </tr>\n",
       "  </thead>\n",
       "  <tbody>\n",
       "    <tr>\n",
       "      <th>count</th>\n",
       "      <td>20.00000</td>\n",
       "      <td>20.000000</td>\n",
       "      <td>20.00000</td>\n",
       "      <td>20.000000</td>\n",
       "      <td>20.000000</td>\n",
       "      <td>20.000000</td>\n",
       "    </tr>\n",
       "    <tr>\n",
       "      <th>mean</th>\n",
       "      <td>41.25000</td>\n",
       "      <td>1.050000</td>\n",
       "      <td>15.95000</td>\n",
       "      <td>31.450000</td>\n",
       "      <td>33.100000</td>\n",
       "      <td>0.300000</td>\n",
       "    </tr>\n",
       "    <tr>\n",
       "      <th>std</th>\n",
       "      <td>120.72364</td>\n",
       "      <td>3.332061</td>\n",
       "      <td>49.95627</td>\n",
       "      <td>88.623672</td>\n",
       "      <td>83.591677</td>\n",
       "      <td>1.128576</td>\n",
       "    </tr>\n",
       "    <tr>\n",
       "      <th>min</th>\n",
       "      <td>0.00000</td>\n",
       "      <td>0.000000</td>\n",
       "      <td>0.00000</td>\n",
       "      <td>0.000000</td>\n",
       "      <td>0.000000</td>\n",
       "      <td>0.000000</td>\n",
       "    </tr>\n",
       "    <tr>\n",
       "      <th>25%</th>\n",
       "      <td>0.00000</td>\n",
       "      <td>0.000000</td>\n",
       "      <td>0.00000</td>\n",
       "      <td>0.000000</td>\n",
       "      <td>0.000000</td>\n",
       "      <td>0.000000</td>\n",
       "    </tr>\n",
       "    <tr>\n",
       "      <th>50%</th>\n",
       "      <td>0.00000</td>\n",
       "      <td>0.000000</td>\n",
       "      <td>0.00000</td>\n",
       "      <td>0.000000</td>\n",
       "      <td>0.000000</td>\n",
       "      <td>0.000000</td>\n",
       "    </tr>\n",
       "    <tr>\n",
       "      <th>75%</th>\n",
       "      <td>0.00000</td>\n",
       "      <td>0.000000</td>\n",
       "      <td>0.00000</td>\n",
       "      <td>0.000000</td>\n",
       "      <td>22.250000</td>\n",
       "      <td>0.000000</td>\n",
       "    </tr>\n",
       "    <tr>\n",
       "      <th>max</th>\n",
       "      <td>459.00000</td>\n",
       "      <td>13.000000</td>\n",
       "      <td>188.00000</td>\n",
       "      <td>365.000000</td>\n",
       "      <td>359.000000</td>\n",
       "      <td>5.000000</td>\n",
       "    </tr>\n",
       "  </tbody>\n",
       "</table>\n",
       "</div>"
      ],
      "text/plain": [
       "        CUTTING   EMBROIDERY   FINISHING    PRINTING      SEWING    WASHING \n",
       "count   20.00000    20.000000    20.00000   20.000000   20.000000  20.000000\n",
       "mean    41.25000     1.050000    15.95000   31.450000   33.100000   0.300000\n",
       "std    120.72364     3.332061    49.95627   88.623672   83.591677   1.128576\n",
       "min      0.00000     0.000000     0.00000    0.000000    0.000000   0.000000\n",
       "25%      0.00000     0.000000     0.00000    0.000000    0.000000   0.000000\n",
       "50%      0.00000     0.000000     0.00000    0.000000    0.000000   0.000000\n",
       "75%      0.00000     0.000000     0.00000    0.000000   22.250000   0.000000\n",
       "max    459.00000    13.000000   188.00000  365.000000  359.000000   5.000000"
      ]
     },
     "execution_count": 23,
     "metadata": {},
     "output_type": "execute_result"
    }
   ],
   "source": [
    "dfn.describe()"
   ]
  },
  {
   "cell_type": "code",
   "execution_count": 24,
   "id": "7f2c1a65",
   "metadata": {},
   "outputs": [
    {
     "data": {
      "text/plain": [
       "<BarContainer object of 3 artists>"
      ]
     },
     "execution_count": 24,
     "metadata": {},
     "output_type": "execute_result"
    },
    {
     "data": {
      "image/png": "[encoded data removed]",
      "text/plain": [
       "<Figure size 720x288 with 1 Axes>"
      ]
     },
     "metadata": {},
     "output_type": "display_data"
    }
   ],
   "source": [
    "dfcutting=dfn[dfn['CUTTING ']>0].sort_values('CUTTING ',ascending=False)\n",
    "plt.figure(figsize=(10,4))\n",
    "plt.bar('defects','CUTTING ',data=dfcutting)\n",
    "\n",
    "#plt.figure(figsize=(40,10))\n",
    "#sns.barplot(x='defects', y=dfn[dfn['CUTTING ']>0],data=dfn)\n",
    "#plt.show()"
   ]
  },
  {
   "cell_type": "markdown",
   "id": "94556213",
   "metadata": {},
   "source": [
    "## Sewing Departement "
   ]
  },
  {
   "cell_type": "code",
   "execution_count": 25,
   "id": "d91e7d36",
   "metadata": {},
   "outputs": [
    {
     "data": {
      "text/plain": [
       "<BarContainer object of 7 artists>"
      ]
     },
     "execution_count": 25,
     "metadata": {},
     "output_type": "execute_result"
    },
    {
     "data": {
      "image/png": "[encoded data removed]",
      "text/plain": [
       "<Figure size 1080x288 with 1 Axes>"
      ]
     },
     "metadata": {},
     "output_type": "display_data"
    }
   ],
   "source": [
    "dfsewing=dfn[dfn['SEWING ']>0].sort_values('SEWING ',ascending=False)\n",
    "plt.figure(figsize=(15,4))\n",
    "plt.bar('defects','SEWING ',data=dfsewing)"
   ]
  },
  {
   "cell_type": "markdown",
   "id": "ec399e92",
   "metadata": {},
   "source": [
    "## Printing Departement"
   ]
  },
  {
   "cell_type": "code",
   "execution_count": 26,
   "id": "e3e79afe",
   "metadata": {},
   "outputs": [
    {
     "data": {
      "text/plain": [
       "<BarContainer object of 4 artists>"
      ]
     },
     "execution_count": 26,
     "metadata": {},
     "output_type": "execute_result"
    },
    {
     "data": {
      "image/png": "[encoded data removed]",
      "text/plain": [
       "<Figure size 1080x288 with 1 Axes>"
      ]
     },
     "metadata": {},
     "output_type": "display_data"
    }
   ],
   "source": [
    "dfprinting=dfn[dfn['PRINTING ']>0].sort_values('PRINTING ',ascending=False)\n",
    "plt.figure(figsize=(15,4))\n",
    "plt.bar('defects','PRINTING ',data=dfprinting)"
   ]
  },
  {
   "cell_type": "markdown",
   "id": "598d66ae",
   "metadata": {},
   "source": [
    "## Finishing Departement"
   ]
  },
  {
   "cell_type": "code",
   "execution_count": 27,
   "id": "499ea90f",
   "metadata": {},
   "outputs": [
    {
     "data": {
      "text/plain": [
       "<BarContainer object of 2 artists>"
      ]
     },
     "execution_count": 27,
     "metadata": {},
     "output_type": "execute_result"
    },
    {
     "data": {
      "image/png": "[encoded data removed]",
      "text/plain": [
       "<Figure size 1080x288 with 1 Axes>"
      ]
     },
     "metadata": {},
     "output_type": "display_data"
    }
   ],
   "source": [
    "dffinishing=dfn[dfn['FINISHING ']>0].sort_values('FINISHING ',ascending=False)\n",
    "plt.figure(figsize=(15,4))\n",
    "plt.bar('defects','FINISHING ',data=dffinishing)"
   ]
  },
  {
   "cell_type": "markdown",
   "id": "96b02ca6",
   "metadata": {},
   "source": [
    "## Embroidery Departement"
   ]
  },
  {
   "cell_type": "code",
   "execution_count": 28,
   "id": "f29f4d68",
   "metadata": {},
   "outputs": [
    {
     "data": {
      "text/plain": [
       "<BarContainer object of 2 artists>"
      ]
     },
     "execution_count": 28,
     "metadata": {},
     "output_type": "execute_result"
    },
    {
     "data": {
      "image/png": "[encoded data removed]",
      "text/plain": [
       "<Figure size 1080x288 with 1 Axes>"
      ]
     },
     "metadata": {},
     "output_type": "display_data"
    }
   ],
   "source": [
    "dfembroidery=dfn[dfn['EMBROIDERY ']>0].sort_values('EMBROIDERY ',ascending=False)\n",
    "plt.figure(figsize=(15,4))\n",
    "plt.bar('defects','EMBROIDERY ',data=dfembroidery)"
   ]
  },
  {
   "cell_type": "markdown",
   "id": "50a72ee8",
   "metadata": {},
   "source": [
    "## Washing Departement"
   ]
  },
  {
   "cell_type": "code",
   "execution_count": 29,
   "id": "55eb1a7c",
   "metadata": {},
   "outputs": [
    {
     "data": {
      "text/plain": [
       "<BarContainer object of 2 artists>"
      ]
     },
     "execution_count": 29,
     "metadata": {},
     "output_type": "execute_result"
    },
    {
     "data": {
      "image/png": "[encoded data removed]",
      "text/plain": [
       "<Figure size 1080x288 with 1 Axes>"
      ]
     },
     "metadata": {},
     "output_type": "display_data"
    }
   ],
   "source": [
    "dfwashing=dfn[dfn['WASHING ']>0].sort_values('WASHING ',ascending=False)\n",
    "plt.figure(figsize=(15,4))\n",
    "plt.bar('defects','WASHING ',data=dfwashing)"
   ]
  },
  {
   "cell_type": "markdown",
   "id": "203bcf0e",
   "metadata": {},
   "source": [
    "### Analysis defect by each Garment"
   ]
  },
  {
   "cell_type": "code",
   "execution_count": 30,
   "id": "c8a44b65",
   "metadata": {},
   "outputs": [
    {
     "data": {
      "text/plain": [
       "<AxesSubplot:xlabel='Garment'>"
      ]
     },
     "execution_count": 30,
     "metadata": {},
     "output_type": "execute_result"
    },
    {
     "data": {
      "image/png": "[encoded data removed]",
      "text/plain": [
       "<Figure size 1080x576 with 1 Axes>"
      ]
     },
     "metadata": {},
     "output_type": "display_data"
    }
   ],
   "source": [
    "d=df.groupby(['Garment']).aggregate({ 'Quantity cutted':np.sum,\n",
    "                                     'Total':np.sum,\n",
    "                                     'Garment':np.max,\n",
    "                                     'CUTTING ':np.sum,\n",
    "                                     'EMBROIDERY':np.sum,\n",
    "                                     'PRINTING':np.sum,\n",
    "                                     'Sewing':np.sum,\n",
    "                                     'Washing':np.sum,\n",
    "                                     'Finishing':np.sum,\n",
    "    })\n",
    "d['percentage']=d['Total']/d['Quantity cutted']*100\n",
    "dsorted=d.sort_values('percentage',ascending=False)\n",
    "plt.figure(figsize=(15,8))\n",
    "dsorted['percentage'].plot(kind = \"bar\")\n"
   ]
  },
  {
   "cell_type": "markdown",
   "id": "22482460",
   "metadata": {},
   "source": [
    "We have percentage of second quality jogger and denim more than others"
   ]
  },
  {
   "cell_type": "markdown",
   "id": "026f3103",
   "metadata": {},
   "source": [
    "We will check the problem of Jogger and denim, whitch departement responsible for this issue ?"
   ]
  },
  {
   "cell_type": "code",
   "execution_count": 31,
   "id": "f65a6734",
   "metadata": {},
   "outputs": [
    {
     "data": {
      "text/html": [
       "<div>\n",
       "<style scoped>\n",
       "    .dataframe tbody tr th:only-of-type {\n",
       "        vertical-align: middle;\n",
       "    }\n",
       "\n",
       "    .dataframe tbody tr th {\n",
       "        vertical-align: top;\n",
       "    }\n",
       "\n",
       "    .dataframe thead th {\n",
       "        text-align: right;\n",
       "    }\n",
       "</style>\n",
       "<table border=\"1\" class=\"dataframe\">\n",
       "  <thead>\n",
       "    <tr style=\"text-align: right;\">\n",
       "      <th></th>\n",
       "      <th>Quantity cutted</th>\n",
       "      <th>Total</th>\n",
       "      <th>Garment</th>\n",
       "      <th>CUTTING</th>\n",
       "      <th>EMBROIDERY</th>\n",
       "      <th>PRINTING</th>\n",
       "      <th>Sewing</th>\n",
       "      <th>Washing</th>\n",
       "      <th>Finishing</th>\n",
       "      <th>percentage</th>\n",
       "      <th>perc/cutting</th>\n",
       "      <th>perc/sewing</th>\n",
       "      <th>perc/washing</th>\n",
       "      <th>perc/finishing</th>\n",
       "    </tr>\n",
       "    <tr>\n",
       "      <th>Garment</th>\n",
       "      <th></th>\n",
       "      <th></th>\n",
       "      <th></th>\n",
       "      <th></th>\n",
       "      <th></th>\n",
       "      <th></th>\n",
       "      <th></th>\n",
       "      <th></th>\n",
       "      <th></th>\n",
       "      <th></th>\n",
       "      <th></th>\n",
       "      <th></th>\n",
       "      <th></th>\n",
       "      <th></th>\n",
       "    </tr>\n",
       "  </thead>\n",
       "  <tbody>\n",
       "    <tr>\n",
       "      <th>JOGGER</th>\n",
       "      <td>656.000000</td>\n",
       "      <td>67</td>\n",
       "      <td>JOGGER</td>\n",
       "      <td>51</td>\n",
       "      <td>0</td>\n",
       "      <td>0</td>\n",
       "      <td>9</td>\n",
       "      <td>0</td>\n",
       "      <td>7</td>\n",
       "      <td>10.213415</td>\n",
       "      <td>76.119403</td>\n",
       "      <td>13.432836</td>\n",
       "      <td>0.000000</td>\n",
       "      <td>10.447761</td>\n",
       "    </tr>\n",
       "    <tr>\n",
       "      <th>DENIM</th>\n",
       "      <td>17701.000000</td>\n",
       "      <td>913</td>\n",
       "      <td>DENIM</td>\n",
       "      <td>430</td>\n",
       "      <td>0</td>\n",
       "      <td>0</td>\n",
       "      <td>291</td>\n",
       "      <td>27</td>\n",
       "      <td>165</td>\n",
       "      <td>5.157901</td>\n",
       "      <td>47.097481</td>\n",
       "      <td>31.872946</td>\n",
       "      <td>2.957284</td>\n",
       "      <td>18.072289</td>\n",
       "    </tr>\n",
       "    <tr>\n",
       "      <th>SHORT S/J</th>\n",
       "      <td>34755.000000</td>\n",
       "      <td>1231</td>\n",
       "      <td>SHORT S/J</td>\n",
       "      <td>213</td>\n",
       "      <td>0</td>\n",
       "      <td>203</td>\n",
       "      <td>700</td>\n",
       "      <td>0</td>\n",
       "      <td>115</td>\n",
       "      <td>3.541936</td>\n",
       "      <td>17.303006</td>\n",
       "      <td>56.864338</td>\n",
       "      <td>0.000000</td>\n",
       "      <td>9.341998</td>\n",
       "    </tr>\n",
       "    <tr>\n",
       "      <th>Polo</th>\n",
       "      <td>15294.000000</td>\n",
       "      <td>486</td>\n",
       "      <td>Polo</td>\n",
       "      <td>347</td>\n",
       "      <td>17</td>\n",
       "      <td>62</td>\n",
       "      <td>47</td>\n",
       "      <td>0</td>\n",
       "      <td>13</td>\n",
       "      <td>3.177717</td>\n",
       "      <td>71.399177</td>\n",
       "      <td>9.670782</td>\n",
       "      <td>0.000000</td>\n",
       "      <td>2.674897</td>\n",
       "    </tr>\n",
       "    <tr>\n",
       "      <th>Tank top</th>\n",
       "      <td>6486.000000</td>\n",
       "      <td>205</td>\n",
       "      <td>Tank top</td>\n",
       "      <td>18</td>\n",
       "      <td>0</td>\n",
       "      <td>125</td>\n",
       "      <td>35</td>\n",
       "      <td>0</td>\n",
       "      <td>27</td>\n",
       "      <td>3.160654</td>\n",
       "      <td>8.780488</td>\n",
       "      <td>17.073171</td>\n",
       "      <td>0.000000</td>\n",
       "      <td>13.170732</td>\n",
       "    </tr>\n",
       "    <tr>\n",
       "      <th>WW PANT</th>\n",
       "      <td>578.000000</td>\n",
       "      <td>17</td>\n",
       "      <td>WW PANT</td>\n",
       "      <td>11</td>\n",
       "      <td>0</td>\n",
       "      <td>0</td>\n",
       "      <td>0</td>\n",
       "      <td>0</td>\n",
       "      <td>6</td>\n",
       "      <td>2.941176</td>\n",
       "      <td>64.705882</td>\n",
       "      <td>0.000000</td>\n",
       "      <td>0.000000</td>\n",
       "      <td>35.294118</td>\n",
       "    </tr>\n",
       "    <tr>\n",
       "      <th>PYJAMA</th>\n",
       "      <td>19426.000000</td>\n",
       "      <td>559</td>\n",
       "      <td>PYJAMA</td>\n",
       "      <td>116</td>\n",
       "      <td>0</td>\n",
       "      <td>137</td>\n",
       "      <td>272</td>\n",
       "      <td>0</td>\n",
       "      <td>34</td>\n",
       "      <td>2.877587</td>\n",
       "      <td>20.751342</td>\n",
       "      <td>48.658318</td>\n",
       "      <td>0.000000</td>\n",
       "      <td>6.082290</td>\n",
       "    </tr>\n",
       "    <tr>\n",
       "      <th>SHORT</th>\n",
       "      <td>35368.000000</td>\n",
       "      <td>919</td>\n",
       "      <td>SHORT</td>\n",
       "      <td>153</td>\n",
       "      <td>0</td>\n",
       "      <td>358</td>\n",
       "      <td>361</td>\n",
       "      <td>0</td>\n",
       "      <td>47</td>\n",
       "      <td>2.598394</td>\n",
       "      <td>16.648531</td>\n",
       "      <td>39.281828</td>\n",
       "      <td>0.000000</td>\n",
       "      <td>5.114255</td>\n",
       "    </tr>\n",
       "    <tr>\n",
       "      <th>WW TOP</th>\n",
       "      <td>578.000000</td>\n",
       "      <td>15</td>\n",
       "      <td>WW TOP</td>\n",
       "      <td>12</td>\n",
       "      <td>0</td>\n",
       "      <td>0</td>\n",
       "      <td>0</td>\n",
       "      <td>0</td>\n",
       "      <td>3</td>\n",
       "      <td>2.595156</td>\n",
       "      <td>80.000000</td>\n",
       "      <td>0.000000</td>\n",
       "      <td>0.000000</td>\n",
       "      <td>20.000000</td>\n",
       "    </tr>\n",
       "    <tr>\n",
       "      <th>TANK TOP</th>\n",
       "      <td>2160.000000</td>\n",
       "      <td>55</td>\n",
       "      <td>TANK TOP</td>\n",
       "      <td>11</td>\n",
       "      <td>0</td>\n",
       "      <td>29</td>\n",
       "      <td>9</td>\n",
       "      <td>0</td>\n",
       "      <td>6</td>\n",
       "      <td>2.546296</td>\n",
       "      <td>20.000000</td>\n",
       "      <td>16.363636</td>\n",
       "      <td>0.000000</td>\n",
       "      <td>10.909091</td>\n",
       "    </tr>\n",
       "    <tr>\n",
       "      <th>pyjama</th>\n",
       "      <td>648.000000</td>\n",
       "      <td>16</td>\n",
       "      <td>pyjama</td>\n",
       "      <td>9</td>\n",
       "      <td>0</td>\n",
       "      <td>0</td>\n",
       "      <td>5</td>\n",
       "      <td>0</td>\n",
       "      <td>2</td>\n",
       "      <td>2.469136</td>\n",
       "      <td>56.250000</td>\n",
       "      <td>31.250000</td>\n",
       "      <td>0.000000</td>\n",
       "      <td>12.500000</td>\n",
       "    </tr>\n",
       "    <tr>\n",
       "      <th>T-SHIRT</th>\n",
       "      <td>223765.000000</td>\n",
       "      <td>4617</td>\n",
       "      <td>T-SHIRT</td>\n",
       "      <td>1530</td>\n",
       "      <td>0</td>\n",
       "      <td>1522</td>\n",
       "      <td>1033</td>\n",
       "      <td>1</td>\n",
       "      <td>531</td>\n",
       "      <td>2.063325</td>\n",
       "      <td>33.138402</td>\n",
       "      <td>22.373836</td>\n",
       "      <td>0.021659</td>\n",
       "      <td>11.500975</td>\n",
       "    </tr>\n",
       "    <tr>\n",
       "      <th>POLO</th>\n",
       "      <td>29870.000000</td>\n",
       "      <td>583</td>\n",
       "      <td>POLO</td>\n",
       "      <td>324</td>\n",
       "      <td>11</td>\n",
       "      <td>121</td>\n",
       "      <td>89</td>\n",
       "      <td>0</td>\n",
       "      <td>38</td>\n",
       "      <td>1.951791</td>\n",
       "      <td>55.574614</td>\n",
       "      <td>15.265866</td>\n",
       "      <td>0.000000</td>\n",
       "      <td>6.518010</td>\n",
       "    </tr>\n",
       "    <tr>\n",
       "      <th>Short</th>\n",
       "      <td>3051.395939</td>\n",
       "      <td>29</td>\n",
       "      <td>Short</td>\n",
       "      <td>7</td>\n",
       "      <td>0</td>\n",
       "      <td>19</td>\n",
       "      <td>3</td>\n",
       "      <td>0</td>\n",
       "      <td>0</td>\n",
       "      <td>0.950385</td>\n",
       "      <td>24.137931</td>\n",
       "      <td>10.344828</td>\n",
       "      <td>0.000000</td>\n",
       "      <td>0.000000</td>\n",
       "    </tr>\n",
       "  </tbody>\n",
       "</table>\n",
       "</div>"
      ],
      "text/plain": [
       "           Quantity cutted  Total    Garment  CUTTING   EMBROIDERY  PRINTING  \\\n",
       "Garment                                                                        \n",
       "JOGGER          656.000000     67     JOGGER        51           0         0   \n",
       "DENIM         17701.000000    913      DENIM       430           0         0   \n",
       "SHORT S/J     34755.000000   1231  SHORT S/J       213           0       203   \n",
       "Polo          15294.000000    486       Polo       347          17        62   \n",
       "Tank top       6486.000000    205   Tank top        18           0       125   \n",
       "WW PANT         578.000000     17    WW PANT        11           0         0   \n",
       "PYJAMA        19426.000000    559     PYJAMA       116           0       137   \n",
       "SHORT         35368.000000    919      SHORT       153           0       358   \n",
       "WW TOP          578.000000     15     WW TOP        12           0         0   \n",
       "TANK TOP       2160.000000     55   TANK TOP        11           0        29   \n",
       "pyjama          648.000000     16     pyjama         9           0         0   \n",
       "T-SHIRT      223765.000000   4617    T-SHIRT      1530           0      1522   \n",
       "POLO          29870.000000    583       POLO       324          11       121   \n",
       "Short          3051.395939     29      Short         7           0        19   \n",
       "\n",
       "           Sewing  Washing  Finishing  percentage  perc/cutting  perc/sewing  \\\n",
       "Garment                                                                        \n",
       "JOGGER          9        0          7   10.213415     76.119403    13.432836   \n",
       "DENIM         291       27        165    5.157901     47.097481    31.872946   \n",
       "SHORT S/J     700        0        115    3.541936     17.303006    56.864338   \n",
       "Polo           47        0         13    3.177717     71.399177     9.670782   \n",
       "Tank top       35        0         27    3.160654      8.780488    17.073171   \n",
       "WW PANT         0        0          6    2.941176     64.705882     0.000000   \n",
       "PYJAMA        272        0         34    2.877587     20.751342    48.658318   \n",
       "SHORT         361        0         47    2.598394     16.648531    39.281828   \n",
       "WW TOP          0        0          3    2.595156     80.000000     0.000000   \n",
       "TANK TOP        9        0          6    2.546296     20.000000    16.363636   \n",
       "pyjama          5        0          2    2.469136     56.250000    31.250000   \n",
       "T-SHIRT      1033        1        531    2.063325     33.138402    22.373836   \n",
       "POLO           89        0         38    1.951791     55.574614    15.265866   \n",
       "Short           3        0          0    0.950385     24.137931    10.344828   \n",
       "\n",
       "           perc/washing  perc/finishing  \n",
       "Garment                                  \n",
       "JOGGER         0.000000       10.447761  \n",
       "DENIM          2.957284       18.072289  \n",
       "SHORT S/J      0.000000        9.341998  \n",
       "Polo           0.000000        2.674897  \n",
       "Tank top       0.000000       13.170732  \n",
       "WW PANT        0.000000       35.294118  \n",
       "PYJAMA         0.000000        6.082290  \n",
       "SHORT          0.000000        5.114255  \n",
       "WW TOP         0.000000       20.000000  \n",
       "TANK TOP       0.000000       10.909091  \n",
       "pyjama         0.000000       12.500000  \n",
       "T-SHIRT        0.021659       11.500975  \n",
       "POLO           0.000000        6.518010  \n",
       "Short          0.000000        0.000000  "
      ]
     },
     "execution_count": 31,
     "metadata": {},
     "output_type": "execute_result"
    }
   ],
   "source": [
    "dsorted['perc/cutting']=dsorted['CUTTING ']/dsorted['Total']*100\n",
    "dsorted['perc/sewing']=dsorted['Sewing']/dsorted['Total']*100\n",
    "dsorted['perc/washing']=dsorted['Washing']/dsorted['Total']*100\n",
    "dsorted['perc/finishing']=dsorted['Finishing']/dsorted['Total']*100\n",
    "dsorted"
   ]
  },
  {
   "cell_type": "code",
   "execution_count": 32,
   "id": "df66c03f",
   "metadata": {},
   "outputs": [
    {
     "data": {
      "image/png": "[encoded data removed]",
      "text/plain": [
       "<Figure size 432x288 with 3 Axes>"
      ]
     },
     "metadata": {},
     "output_type": "display_data"
    },
    {
     "data": {
      "text/plain": [
       "<Figure size 720x720 with 0 Axes>"
      ]
     },
     "metadata": {},
     "output_type": "display_data"
    }
   ],
   "source": [
    "t=dsorted.loc[['JOGGER']]\n",
    "fig, ax=plt.subplots(nrows=1,ncols=3)\n",
    "plt.figure(figsize=(10,10))\n",
    "ax[0].set_ylim(bottom=0,top=100)\n",
    "ax[1].set_ylim(bottom=0,top=100)\n",
    "ax[2].set_ylim(bottom=0,top=100)\n",
    "ax[0].bar('CUTTING',t['perc/cutting'],color='red')\n",
    "ax[1].bar('SEWING',t['perc/sewing'])\n",
    "ax[2].bar('FINISHING',t['perc/finishing'])\n",
    "plt.show()"
   ]
  },
  {
   "cell_type": "markdown",
   "id": "70408f4f",
   "metadata": {},
   "source": [
    "and now We will check the problem of denim, whitch departement responsible for this issue ?"
   ]
  },
  {
   "cell_type": "code",
   "execution_count": 33,
   "id": "41a7a7cd",
   "metadata": {},
   "outputs": [
    {
     "data": {
      "image/png": "[encoded data removed]",
      "text/plain": [
       "<Figure size 432x288 with 4 Axes>"
      ]
     },
     "metadata": {},
     "output_type": "display_data"
    },
    {
     "data": {
      "text/plain": [
       "<Figure size 2160x720 with 0 Axes>"
      ]
     },
     "metadata": {},
     "output_type": "display_data"
    }
   ],
   "source": [
    "o=dsorted.loc[['DENIM']]\n",
    "fig, at=plt.subplots(nrows=1,ncols=4)\n",
    "\n",
    "plt.figure(figsize=(30,10))\n",
    "at[0].set_ylim(bottom=0, top=100)\n",
    "at[1].set_ylim(bottom=0, top=100)\n",
    "at[2].set_ylim(bottom=0, top=100)\n",
    "at[3].set_ylim(bottom=0, top=100)\n",
    "\n",
    "#\n",
    "#at[0,0].set_title('In Cutting Departement',fontsize=30)\n",
    "#at[0,1].set_title('In Cutting Departement',fontsize=30)\n",
    "#at[1,0].set_title('In Sewing Departement',fontsize=30)\n",
    "#at[1,1].set_title('In Finishing Departement',fontsize=30)\n",
    "\n",
    "\n",
    "# \n",
    "at[0].bar('CUTTING',o['perc/cutting'],color='red')\n",
    "at[1].bar('SEWING',o['perc/sewing'], color='red')\n",
    "at[2].bar('FINISHING',o['perc/finishing'])\n",
    "at[3].bar('WASHING',o['perc/finishing'])\n",
    "plt.show()"
   ]
  },
  {
   "cell_type": "markdown",
   "id": "3863e8fe",
   "metadata": {},
   "source": [
    "we will check in this section most quantity shiped to garment warehouse second quality"
   ]
  },
  {
   "cell_type": "code",
   "execution_count": 34,
   "id": "2a867567",
   "metadata": {},
   "outputs": [],
   "source": [
    "a=df.groupby(['Stayle code']).aggregate({ \n",
    "                                     'Quantity cutted':np.sum,\n",
    "                                     'Garment':np.max, 'CUTTING ':np.sum, 'EMBROIDERY':np.sum, 'PRINTING':np.sum, 'Sewing':np.sum,\n",
    "'Washing':np.sum,'Finishing':np.sum,    \n",
    "    \n",
    "                                     'Total':np.sum\n",
    "    \n",
    "}).sort_values('Total',ascending=False)\n",
    "\n",
    "a=a.head(5)\n"
   ]
  },
  {
   "cell_type": "code",
   "execution_count": 35,
   "id": "b8f4b088",
   "metadata": {},
   "outputs": [
    {
     "data": {
      "text/plain": [
       "<AxesSubplot:xlabel='Total', ylabel='Stayle code'>"
      ]
     },
     "execution_count": 35,
     "metadata": {},
     "output_type": "execute_result"
    },
    {
     "data": {
      "image/png": "[encoded data removed]",
      "text/plain": [
       "<Figure size 2160x1440 with 1 Axes>"
      ]
     },
     "metadata": {},
     "output_type": "display_data"
    }
   ],
   "source": [
    "plt.figure(figsize=(30,20))\n",
    "sns.barplot(y=a.index,x=a['Total'])"
   ]
  },
  {
   "cell_type": "code",
   "execution_count": null,
   "id": "f9ef69e8",
   "metadata": {},
   "outputs": [],
   "source": []
  }
 ],
 "metadata": {
  "kernelspec": {
   "display_name": "Python 3 (ipykernel)",
   "language": "python",
   "name": "python3"
  },
  "language_info": {
   "codemirror_mode": {
    "name": "ipython",
    "version": 3
   },
   "file_extension": ".py",
   "mimetype": "text/x-python",
   "name": "python",
   "nbconvert_exporter": "python",
   "pygments_lexer": "ipython3",
   "version": "3.9.7"
  }
 },
 "nbformat": 4,
 "nbformat_minor": 5
}
